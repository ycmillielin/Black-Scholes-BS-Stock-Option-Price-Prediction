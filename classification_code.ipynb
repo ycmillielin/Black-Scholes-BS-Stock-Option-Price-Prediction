{
 "cells": [
  {
   "cell_type": "code",
   "execution_count": null,
   "id": "557f8417",
   "metadata": {},
   "outputs": [],
   "source": [
    "import pandas as pd\n",
    "import numpy as np\n",
    "import matplotlib.pyplot as plt\n",
    "import seaborn as sns"
   ]
  },
  {
   "cell_type": "code",
   "execution_count": null,
   "id": "b488e8df",
   "metadata": {},
   "outputs": [],
   "source": [
    "# read data\n",
    "df = pd.read_csv('option_train.csv')\n",
    "df.head()"
   ]
  },
  {
   "cell_type": "code",
   "execution_count": null,
   "id": "9ff35cef",
   "metadata": {},
   "outputs": [],
   "source": [
    "df.groupby('BS')['S'].count()"
   ]
  },
  {
   "cell_type": "markdown",
   "id": "993ed3c7",
   "metadata": {},
   "source": [
    "# Data Cleaning"
   ]
  },
  {
   "cell_type": "code",
   "execution_count": null,
   "id": "15156ed0",
   "metadata": {},
   "outputs": [],
   "source": [
    "df.isnull().sum()"
   ]
  },
  {
   "cell_type": "code",
   "execution_count": null,
   "id": "2aa1e264",
   "metadata": {},
   "outputs": [],
   "source": [
    "# change BS to dummy\n",
    "df['BS'] = [1 if i == 'Over' else 0 for i in df['BS']]\n",
    "df.head()"
   ]
  },
  {
   "cell_type": "code",
   "execution_count": null,
   "id": "f7b82312",
   "metadata": {},
   "outputs": [],
   "source": [
    "df.shape"
   ]
  },
  {
   "cell_type": "code",
   "execution_count": null,
   "id": "542879ee",
   "metadata": {},
   "outputs": [],
   "source": [
    "# drop the row with null values\n",
    "df = df.dropna(axis=0)\n",
    "df.shape"
   ]
  },
  {
   "cell_type": "code",
   "execution_count": null,
   "id": "da80ad78",
   "metadata": {},
   "outputs": [],
   "source": [
    "# remove outliers\n",
    "df = df[df['tau'] != 250]\n",
    "df = df[df['tau'] != 146]\n",
    "df = df[df['S'] != 0]\n",
    "df.shape"
   ]
  },
  {
   "cell_type": "markdown",
   "id": "478ada76",
   "metadata": {},
   "source": [
    "# Version 1"
   ]
  },
  {
   "cell_type": "markdown",
   "id": "f6adb69e",
   "metadata": {},
   "source": [
    "# Preprocessing"
   ]
  },
  {
   "cell_type": "code",
   "execution_count": null,
   "id": "2e69efdc",
   "metadata": {},
   "outputs": [],
   "source": [
    "from sklearn.model_selection import train_test_split\n",
    "\n",
    "X = df.loc[:, ['S', 'K', 'tau', 'r']]\n",
    "y = df.loc[:, 'BS']\n",
    "X_train, X_test, y_train, y_test = train_test_split(X, y, test_size=0.2, \n",
    "                                                    stratify = y,  random_state=20)"
   ]
  },
  {
   "cell_type": "code",
   "execution_count": null,
   "id": "ca5e5f7f",
   "metadata": {},
   "outputs": [],
   "source": [
    "from sklearn.preprocessing import StandardScaler\n",
    "\n",
    "scaler = StandardScaler()\n",
    "scaled_X_train = scaler.fit_transform(X_train)\n",
    "scaled_X_test = scaler.fit_transform(X_test)"
   ]
  },
  {
   "cell_type": "code",
   "execution_count": null,
   "id": "84a0af90",
   "metadata": {},
   "outputs": [],
   "source": [
    "print(scaled_X_train.shape)\n",
    "print(y_train.shape)"
   ]
  },
  {
   "cell_type": "markdown",
   "id": "8a39f35e",
   "metadata": {},
   "source": [
    "# Test Models"
   ]
  },
  {
   "cell_type": "code",
   "execution_count": null,
   "id": "73e051cb",
   "metadata": {},
   "outputs": [],
   "source": [
    "from sklearn.model_selection import cross_val_score,KFold ## for regression\n",
    "from sklearn.model_selection import StratifiedKFold ## recommended for classification"
   ]
  },
  {
   "cell_type": "code",
   "execution_count": null,
   "id": "80d38d31",
   "metadata": {},
   "outputs": [],
   "source": [
    "# importing the modules\n",
    "import lightgbm as lgb\n",
    "from xgboost import XGBClassifier\n",
    "from sklearn.model_selection import cross_val_score, cross_validate, GridSearchCV\n",
    "from sklearn.linear_model import LogisticRegression\n",
    "from sklearn.neighbors import KNeighborsClassifier\n",
    "from sklearn.naive_bayes import GaussianNB, MultinomialNB, BernoulliNB\n",
    "from sklearn.tree import DecisionTreeClassifier\n",
    "from sklearn.svm import SVC\n",
    "from sklearn.ensemble import RandomForestClassifier, GradientBoostingClassifier\n",
    "from sklearn.metrics import accuracy_score, precision_score, recall_score, \n",
    "f1_score, confusion_matrix, classification_report\n",
    "from sklearn.utils import class_weight\n",
    "from sklearn.neural_network import MLPClassifier"
   ]
  },
  {
   "cell_type": "markdown",
   "id": "7b6d0304",
   "metadata": {},
   "source": [
    "### Logistic Regression"
   ]
  },
  {
   "cell_type": "code",
   "execution_count": null,
   "id": "5ac2c6a0",
   "metadata": {},
   "outputs": [],
   "source": [
    "kf5 = StratifiedKFold(n_splits = 5, shuffle = True)\n",
    "log_param = {'penalty' : ['l1','l2'], \n",
    "             'C': np.logspace(-3,3,7),\n",
    "             'solver'  : ['newton-cg', 'lbfgs', 'liblinear']}\n",
    "\n",
    "log = LogisticRegression()\n",
    "log_cv = GridSearchCV(log, log_param, cv = kf5, refit=True, verbose=3)\n",
    "log_cv.fit(X_train, y_train)\n",
    "print(log_cv.best_score_)\n",
    "print(log_cv.best_params_)"
   ]
  },
  {
   "cell_type": "code",
   "execution_count": null,
   "id": "14ee345d",
   "metadata": {},
   "outputs": [],
   "source": [
    "log = LogisticRegression(C = 10, penalty = 'l1', solver= 'liblinear')\n",
    "cv = cross_val_score(log, X_train, y_train, cv = kf5)\n",
    "print(cv, 'mean: ', cv.mean())\n",
    "\n",
    "log.fit(X_train, y_train)\n",
    "y_pred = log.predict(X_test)\n",
    "print(confusion_matrix(y_test, y_pred))\n",
    "print(classification_report(y_test, y_pred))\n",
    "print(log.score(X_test, y_test))"
   ]
  },
  {
   "cell_type": "markdown",
   "id": "371a57b6",
   "metadata": {},
   "source": [
    "### Random Forest"
   ]
  },
  {
   "cell_type": "code",
   "execution_count": null,
   "id": "109896d0",
   "metadata": {},
   "outputs": [],
   "source": [
    "kf5 = StratifiedKFold(n_splits = 5, shuffle = True)\n",
    "rf_param = {'max_depth': np.arange(2, 11),\n",
    "            'min_samples_leaf': [1, 2, 4],\n",
    "            'min_samples_split': [2, 5, 10],\n",
    "            'n_estimators': np.arange(50, 201, 50)}\n",
    "\n",
    "param = {'alpha':np.arange(0,1,0.1)}\n",
    "\n",
    "rf = RandomForestClassifier()\n",
    "rf_cv = GridSearchCV(rf, rf_param, cv=kf5, refit=True, verbose=3) \n",
    "rf_cv.fit(X_train, y_train)\n",
    "print(rf_cv.best_score_)\n",
    "print(rf_cv.best_params_)"
   ]
  },
  {
   "cell_type": "code",
   "execution_count": null,
   "id": "4b74209c",
   "metadata": {},
   "outputs": [],
   "source": [
    "rf = RandomForestClassifier(max_depth= 9, min_samples_leaf= 2, \n",
    "                            min_samples_split= 5, n_estimators= 200)\n",
    "cv = cross_val_score(rf, X_train, y_train, cv = kf5)\n",
    "print(cv, 'mean: ', cv.mean())\n",
    "\n",
    "rf.fit(X_train, y_train)\n",
    "y_pred = rf.predict(X_test)\n",
    "print(confusion_matrix(y_test, y_pred))\n",
    "print(classification_report(y_test, y_pred))\n",
    "print(rf.score(X_test, y_test))"
   ]
  },
  {
   "cell_type": "markdown",
   "id": "ca4e941e",
   "metadata": {},
   "source": [
    "### Gradient Boosting"
   ]
  },
  {
   "cell_type": "code",
   "execution_count": null,
   "id": "9f46accf",
   "metadata": {},
   "outputs": [],
   "source": [
    "kf5 = StratifiedKFold(n_splits = 5, shuffle = True)\n",
    "gb_param = {\n",
    "    \"learning_rate\": [0.001, 0.01, 0.1],\n",
    "    'max_depth': [2, 5, 10],\n",
    "    'min_samples_leaf': [1, 2, 4],\n",
    "    'min_samples_split': [2, 5, 10],\n",
    "    \"n_estimators\":[10, 100]\n",
    "    }\n",
    "\n",
    "gb = GradientBoostingClassifier()\n",
    "gb_cv = GridSearchCV(gb, gb_param, cv=kf5, refit=True, verbose=3) \n",
    "gb_cv.fit(X_train, y_train)\n",
    "print(gb_cv.best_score_)\n",
    "print(gb_cv.best_params_)"
   ]
  },
  {
   "cell_type": "code",
   "execution_count": null,
   "id": "6913ce55",
   "metadata": {},
   "outputs": [],
   "source": [
    "gb = GradientBoostingClassifier(learning_rate=0.1, max_depth= 5, \n",
    "                                min_samples_leaf= 2, min_samples_split= 2, \n",
    "                                n_estimators= 100)\n",
    "cv = cross_val_score(gb, X_train, y_train, cv = kf5)\n",
    "print(cv, 'mean: ', cv.mean())\n",
    "\n",
    "gb.fit(X_train, y_train)\n",
    "y_pred = gb.predict(X_test)\n",
    "print(confusion_matrix(y_test, y_pred))\n",
    "print(classification_report(y_test, y_pred))\n",
    "print(gb.score(X_test, y_test))"
   ]
  },
  {
   "cell_type": "markdown",
   "id": "66e1af53",
   "metadata": {},
   "source": [
    "### SVM"
   ]
  },
  {
   "cell_type": "code",
   "execution_count": null,
   "id": "1c5ef574",
   "metadata": {},
   "outputs": [],
   "source": [
    "kf5 = StratifiedKFold(n_splits = 5, shuffle = True)\n",
    "svm_param = {'C': [0.1, 1, 10, 100, 1000],  \n",
    "             'gamma': [1, 0.1, 0.01, 0.001, 0.0001], \n",
    "             'kernel': ['rbf']}\n",
    "\n",
    "X = df.loc[:, ['S', 'K', 'tau', 'r']]\n",
    "y = df.loc[:, 'BS']\n",
    "svm = SVC()\n",
    "svm_cv = GridSearchCV(svm, svm_param, cv=kf5, refit=True, verbose=3) \n",
    "svm_cv.fit(X_train, y_train)\n",
    "print(svm_cv.best_score_)\n",
    "print(svm_cv.best_params_)"
   ]
  },
  {
   "cell_type": "code",
   "execution_count": null,
   "id": "f76b4dfe",
   "metadata": {},
   "outputs": [],
   "source": [
    "svm = SVC(C=1000, gamma=0.001, kernel='rbf')\n",
    "cv = cross_val_score(svm, X_train, y_train, cv = kf5)\n",
    "print(cv, 'mean: ', cv.mean())\n",
    "\n",
    "svm.fit(X_train, y_train)\n",
    "y_pred = svm.predict(X_test)\n",
    "print(confusion_matrix(y_test, y_pred))\n",
    "print(classification_report(y_test, y_pred))\n",
    "print(svm.score(X_test, y_test))"
   ]
  },
  {
   "cell_type": "markdown",
   "id": "1010c4c8",
   "metadata": {},
   "source": [
    "### Xgboost"
   ]
  },
  {
   "cell_type": "code",
   "execution_count": null,
   "id": "e651cb0c",
   "metadata": {},
   "outputs": [],
   "source": [
    "kf5 = StratifiedKFold(n_splits = 5, shuffle = True)\n",
    "kb_param = {'min_child_weight': [1, 5, 10],\n",
    "          'gamma': [0.5, 1, 1.5, 2, 5],\n",
    "          'subsample': [0.6, 0.8, 1.0],\n",
    "          'colsample_bytree': [0.6, 0.8, 1.0],\n",
    "          'max_depth': [3, 4, 5]}\n",
    "\n",
    "\n",
    "X = df.loc[:, ['S', 'K', 'tau', 'r']]\n",
    "y = df.loc[:, 'BS']\n",
    "kb = XGBClassifier()\n",
    "kb_cv = GridSearchCV(kb, kb_param, cv=kf5, refit=True, verbose=3) \n",
    "kb_cv.fit(X_train, y_train)\n",
    "print(kb_cv.best_score_)\n",
    "print(kb_cv.best_params_)"
   ]
  },
  {
   "cell_type": "code",
   "execution_count": null,
   "id": "36e08a17",
   "metadata": {},
   "outputs": [],
   "source": [
    "kb = XGBClassifier(colsample_bytree = 1.0, gamma = 2, max_depth = 3, \n",
    "                   min_child_weight = 1, subsample = 0.8)\n",
    "cv = cross_val_score(kb, X_train, y_train, cv = kf5)\n",
    "print(cv, 'mean: ', cv.mean())\n",
    "\n",
    "kb.fit(X_train, y_train)\n",
    "y_pred = kb.predict(X_test)\n",
    "print(confusion_matrix(y_test, y_pred))\n",
    "print(classification_report(y_test, y_pred))\n",
    "print(kb.score(X_test, y_test))"
   ]
  },
  {
   "cell_type": "markdown",
   "id": "646d9f68",
   "metadata": {},
   "source": [
    "### KNN"
   ]
  },
  {
   "cell_type": "code",
   "execution_count": null,
   "id": "e619b9ab",
   "metadata": {},
   "outputs": [],
   "source": [
    "kf5 = StratifiedKFold(n_splits = 5, shuffle = True)\n",
    "knn_param = {'n_neighbors': [3, 4, 5, 6, 7, 8, 9, 10, 11, 12]}\n",
    "\n",
    "knn = KNeighborsClassifier()\n",
    "knn_cv = GridSearchCV(knn, knn_param, cv=kf5, refit=True, verbose=3) \n",
    "knn_cv.fit(X_train, y_train)\n",
    "print(knn_cv.best_score_)\n",
    "print(knn_cv.best_params_)"
   ]
  },
  {
   "cell_type": "code",
   "execution_count": null,
   "id": "be6f61b4",
   "metadata": {},
   "outputs": [],
   "source": [
    "knn = KNeighborsClassifier(n_neighbors = 7)\n",
    "cv = cross_val_score(knn, X_train, y_train, cv = kf5)\n",
    "print(cv, 'mean: ', cv.mean())\n",
    "\n",
    "knn.fit(X_train, y_train)\n",
    "y_pred = knn.predict(X_test)\n",
    "print(confusion_matrix(y_test, y_pred))\n",
    "print(classification_report(y_test, y_pred))\n",
    "print(knn.score(X_test, y_test))"
   ]
  },
  {
   "cell_type": "markdown",
   "id": "bb27a140",
   "metadata": {},
   "source": [
    "### Neural Network"
   ]
  },
  {
   "cell_type": "code",
   "execution_count": null,
   "id": "c8b3bb36",
   "metadata": {},
   "outputs": [],
   "source": [
    "kf5 = StratifiedKFold(n_splits = 5, shuffle = True)\n",
    "nn_param = {'learning_rate': [\"constant\", \"invscaling\", \"adaptive\"],\n",
    "            'hidden_layer_sizes': [(100,1), (100,2), (100,3)],\n",
    "            'activation': [\"logistic\", \"relu\", \"Tanh\"]}\n",
    "\n",
    "nn = MLPClassifier()\n",
    "nn_cv = GridSearchCV(nn, nn_param, cv=kf5, refit=True, verbose=3) \n",
    "nn_cv.fit(X_train, y_train)\n",
    "print(nn_cv.best_score_)\n",
    "print(nn_cv.best_params_)"
   ]
  },
  {
   "cell_type": "code",
   "execution_count": null,
   "id": "eaeabcea",
   "metadata": {},
   "outputs": [],
   "source": [
    "nn = MLPClassifier(activation = 'logistic', hidden_layer_sizes = (100, 2), learning_rate = 'invscaling')\n",
    "cv = cross_val_score(nn, X_train, y_train, cv = kf5)\n",
    "print(cv, 'mean: ', cv.mean())\n",
    "\n",
    "nn.fit(X_train, y_train)\n",
    "y_pred = nn.predict(X_test)\n",
    "print(confusion_matrix(y_test, y_pred))\n",
    "print(classification_report(y_test, y_pred))\n",
    "print(nn.score(X_test, y_test))"
   ]
  },
  {
   "cell_type": "markdown",
   "id": "f07bdac7",
   "metadata": {},
   "source": [
    "### Decision Tree"
   ]
  },
  {
   "cell_type": "code",
   "execution_count": null,
   "id": "8994edbc",
   "metadata": {},
   "outputs": [],
   "source": [
    "kf5 = StratifiedKFold(n_splits = 5, shuffle = True)\n",
    "dt_param = {'max_depth': np.arange(2, 11),\n",
    "            'min_samples_leaf': [1, 2, 4],\n",
    "            'min_samples_split': [2, 5, 10]}\n",
    "\n",
    "dt = DecisionTreeClassifier()\n",
    "dt_cv = GridSearchCV(dt, dt_param, cv=kf5, refit=True, verbose=3) \n",
    "dt_cv.fit(X_train, y_train)\n",
    "print(dt_cv.best_score_)\n",
    "print(dt_cv.best_params_)"
   ]
  },
  {
   "cell_type": "code",
   "execution_count": null,
   "id": "dc2e0617",
   "metadata": {},
   "outputs": [],
   "source": [
    "dt = DecisionTreeClassifier(max_depth = 9, min_samples_leaf = 1, min_samples_split = 2)\n",
    "cv = cross_val_score(dt, X_train, y_train, cv = kf5)\n",
    "print(cv, 'mean: ', cv.mean())\n",
    "\n",
    "dt.fit(X_train, y_train)\n",
    "y_pred = dt.predict(X_test)\n",
    "print(confusion_matrix(y_test, y_pred))\n",
    "print(classification_report(y_test, y_pred))\n",
    "print(dt.score(X_test, y_test))"
   ]
  },
  {
   "cell_type": "markdown",
   "id": "7f415e7d",
   "metadata": {},
   "source": [
    "### LGB"
   ]
  },
  {
   "cell_type": "code",
   "execution_count": null,
   "id": "accd223c",
   "metadata": {},
   "outputs": [],
   "source": [
    "kf5 = StratifiedKFold(n_splits = 5, shuffle = True)\n",
    "lgb_param = {'max_depth': np.arange(2, 11),\n",
    "            'n_estimators': np.arange(50, 201, 50),\n",
    "            'lambda_l1': [0, 1, 1.5],\n",
    "            'lambda_l2': [0, 1]}\n",
    "\n",
    "LGB = lgb.LGBMClassifier()\n",
    "lgb_cv = GridSearchCV(LGB, lgb_param, cv=kf5, refit=True, verbose=3) \n",
    "lgb_cv.fit(X_train, y_train)\n",
    "print(lgb_cv.best_score_)\n",
    "print(lgb_cv.best_params_)"
   ]
  },
  {
   "cell_type": "code",
   "execution_count": null,
   "id": "7ad4a65d",
   "metadata": {},
   "outputs": [],
   "source": [
    "LGB = lgb.LGBMClassifier(lambda_l1=0, lambda_l2=1, max_depth=9, n_estimators=200)\n",
    "cv = cross_val_score(LGB, X_train, y_train, cv = kf5)\n",
    "print(cv, 'mean: ', cv.mean())\n",
    "\n",
    "LGB.fit(X_train, y_train)\n",
    "y_pred = LGB.predict(X_test)\n",
    "print(confusion_matrix(y_test, y_pred))\n",
    "print(classification_report(y_test, y_pred))\n",
    "print(LGB.score(X_test, y_test))"
   ]
  },
  {
   "cell_type": "code",
   "execution_count": null,
   "id": "3868fde0",
   "metadata": {},
   "outputs": [],
   "source": [
    "classifiers = [LogisticRegression(C = 10, penalty = 'l1', solver= 'liblinear'),\n",
    "               KNeighborsClassifier(n_neighbors=7),\n",
    "               SVC(C=1000, gamma=0.001, kernel='rbf'),\n",
    "               DecisionTreeClassifier(max_depth=9, min_samples_leaf=1, min_samples_split=2),\n",
    "               RandomForestClassifier(max_depth=9, min_samples_leaf=2, min_samples_split=5, n_estimators=200),\n",
    "               GradientBoostingClassifier(learning_rate=0.1, max_depth=5, min_samples_leaf=2,\n",
    "                                          min_samples_split=2, n_estimators=100),\n",
    "               MLPClassifier(activation='logistic', hidden_layer_sizes=(100, 2), learning_rate='invscaling'),\n",
    "               XGBClassifier(colsample_bytree=1.0, gamma=2, max_depth=3, min_child_weight=1, subsample=0.8),\n",
    "               lgb.LGBMClassifier(lambda_l1=0, lambda_l2=1, max_depth=9, n_estimators=200)]"
   ]
  },
  {
   "cell_type": "code",
   "execution_count": null,
   "id": "5fad3166",
   "metadata": {},
   "outputs": [],
   "source": [
    "acc = []\n",
    "pre = []\n",
    "rec = []\n",
    "f1 = []\n",
    "\n",
    "for classifier in classifiers:\n",
    "    classifier.fit(X_train, y_train)\n",
    "    y_pred = classifier.predict(X_test)\n",
    "    acc.append(accuracy_score(y_test, y_pred))\n",
    "    pre.append(precision_score(y_test, y_pred, average='weighted'))\n",
    "    rec.append(recall_score(y_test, y_pred, average='weighted'))\n",
    "    f1.append(f1_score(y_test, y_pred, average='weighted'))"
   ]
  },
  {
   "cell_type": "code",
   "execution_count": null,
   "id": "531a043c",
   "metadata": {},
   "outputs": [],
   "source": [
    "models = pd.DataFrame({'Model': ['Logistic Regression','KNN', 'SVM', 'Decision Tree', 'Random Forest', \n",
    "                                 'Gradient Boosting','Neural Network','Xgboost', 'LGB'],\n",
    "                       'Accuracy':acc,\n",
    "                       'Precision':pre,\n",
    "                       'Recall':rec,\n",
    "                       'F1':f1})\n",
    "models.sort_values(by='Accuracy', ascending=False)"
   ]
  },
  {
   "cell_type": "markdown",
   "id": "bd70ee3d",
   "metadata": {},
   "source": [
    "# Standardize (Use scaled_X_train)"
   ]
  },
  {
   "cell_type": "markdown",
   "id": "2414a2fd",
   "metadata": {},
   "source": [
    "### Logistic Regression"
   ]
  },
  {
   "cell_type": "code",
   "execution_count": null,
   "id": "fe2e7c1d",
   "metadata": {},
   "outputs": [],
   "source": [
    "kf5 = StratifiedKFold(n_splits = 5, shuffle = True)\n",
    "log_param = {'penalty' : ['l1','l2'], \n",
    "             'C': np.logspace(-3,3,7),\n",
    "             'solver'  : ['newton-cg', 'lbfgs', 'liblinear']}\n",
    "\n",
    "log = LogisticRegression()\n",
    "log_cv = GridSearchCV(log, log_param, cv = kf5, refit=True, verbose=3)\n",
    "log_cv.fit(scaled_X_train, y_train)\n",
    "print(log_cv.best_score_)\n",
    "print(log_cv.best_params_)"
   ]
  },
  {
   "cell_type": "code",
   "execution_count": null,
   "id": "6d51a3df",
   "metadata": {},
   "outputs": [],
   "source": [
    "log = LogisticRegression(C = 1, penalty = 'l2', solver= 'newton-cg')\n",
    "cv = cross_val_score(log, scaled_X_train, y_train, cv = kf5)\n",
    "print(cv, 'mean: ', cv.mean())\n",
    "\n",
    "log.fit(scaled_X_train, y_train)\n",
    "y_pred = log.predict(scaled_X_test)\n",
    "print(confusion_matrix(y_test, y_pred))\n",
    "print(classification_report(y_test, y_pred))\n",
    "print(log.score(scaled_X_test, y_test))"
   ]
  },
  {
   "cell_type": "markdown",
   "id": "2729d4c0",
   "metadata": {},
   "source": [
    "### Xgboost"
   ]
  },
  {
   "cell_type": "code",
   "execution_count": null,
   "id": "d593c874",
   "metadata": {
    "scrolled": true
   },
   "outputs": [],
   "source": [
    "kf5 = StratifiedKFold(n_splits = 5, shuffle = True)\n",
    "kb_param = {'min_child_weight': [1, 5, 10],\n",
    "          'gamma': [0.5, 1, 1.5, 2, 5],\n",
    "          'subsample': [0.6, 0.8, 1.0],\n",
    "          'colsample_bytree': [0.6, 0.8, 1.0],\n",
    "          'max_depth': [3, 4, 5]}\n",
    "\n",
    "\n",
    "X = df.loc[:, ['S', 'K', 'tau', 'r']]\n",
    "y = df.loc[:, 'BS']\n",
    "kb = XGBClassifier()\n",
    "kb_cv = GridSearchCV(kb, kb_param, cv=kf5, refit=True, verbose=3) \n",
    "kb_cv.fit(scaled_X_train, y_train)\n",
    "print(kb_cv.best_score_)\n",
    "print(kb_cv.best_params_)"
   ]
  },
  {
   "cell_type": "code",
   "execution_count": null,
   "id": "4d9589ec",
   "metadata": {},
   "outputs": [],
   "source": [
    "kb = XGBClassifier(colsample_bytree = 0.8, gamma = 1, max_depth = 4, \n",
    "                   min_child_weight = 1, subsample = 0.6)\n",
    "cv = cross_val_score(kb, scaled_X_train, y_train, cv = kf5)\n",
    "print(cv, 'mean: ', cv.mean())\n",
    "\n",
    "kb.fit(scaled_X_train, y_train)\n",
    "y_pred = kb.predict(scaled_X_test)\n",
    "print(confusion_matrix(y_test, y_pred))\n",
    "print(classification_report(y_test, y_pred))\n",
    "print(kb.score(scaled_X_test, y_test))"
   ]
  },
  {
   "cell_type": "markdown",
   "id": "4a364dbe",
   "metadata": {},
   "source": [
    "### Random Forest"
   ]
  },
  {
   "cell_type": "code",
   "execution_count": null,
   "id": "37f8a3c2",
   "metadata": {},
   "outputs": [],
   "source": [
    "kf5 = StratifiedKFold(n_splits = 5, shuffle = True)\n",
    "rf_param = {'max_depth': np.arange(2, 11),\n",
    "            'min_samples_leaf': [1, 2, 4],\n",
    "            'min_samples_split': [2, 5, 10],\n",
    "            'n_estimators': np.arange(50, 201, 50)}\n",
    "\n",
    "param = {'alpha':np.arange(0,1,0.1)}\n",
    "\n",
    "rf = RandomForestClassifier()\n",
    "rf_cv = GridSearchCV(rf, rf_param, cv=kf5, refit=True, verbose=3) \n",
    "rf_cv.fit(scaled_X_train, y_train)\n",
    "print(rf_cv.best_score_)\n",
    "print(rf_cv.best_params_)"
   ]
  },
  {
   "cell_type": "code",
   "execution_count": null,
   "id": "ebf824d3",
   "metadata": {},
   "outputs": [],
   "source": [
    "rf = RandomForestClassifier(max_depth= 10, min_samples_leaf= 2, \n",
    "                            min_samples_split= 5, n_estimators= 50)\n",
    "cv = cross_val_score(rf, scaled_X_train, y_train, cv = kf5)\n",
    "print(cv, 'mean: ', cv.mean())\n",
    "\n",
    "rf.fit(scaled_X_train, y_train)\n",
    "y_pred = rf.predict(scaled_X_test)\n",
    "print(confusion_matrix(y_test, y_pred))\n",
    "print(classification_report(y_test, y_pred))\n",
    "print(rf.score(scaled_X_test, y_test))"
   ]
  },
  {
   "cell_type": "markdown",
   "id": "a0c39203",
   "metadata": {},
   "source": [
    "### Gradient Boosting"
   ]
  },
  {
   "cell_type": "code",
   "execution_count": null,
   "id": "196c4f54",
   "metadata": {},
   "outputs": [],
   "source": [
    "kf5 = StratifiedKFold(n_splits = 5, shuffle = True)\n",
    "gb_param = {\n",
    "    \"learning_rate\": [0.001, 0.01, 0.1],\n",
    "    'max_depth': [2, 5, 10],\n",
    "    'min_samples_leaf': [1, 2, 4],\n",
    "    'min_samples_split': [2, 5, 10],\n",
    "    \"n_estimators\":[10, 100]\n",
    "    }\n",
    "\n",
    "gb = GradientBoostingClassifier()\n",
    "gb_cv = GridSearchCV(gb, gb_param, cv=kf5, refit=True, verbose=3) \n",
    "gb_cv.fit(scaled_X_train, y_train)\n",
    "print(gb_cv.best_score_)\n",
    "print(gb_cv.best_params_)"
   ]
  },
  {
   "cell_type": "code",
   "execution_count": null,
   "id": "142dc791",
   "metadata": {},
   "outputs": [],
   "source": [
    "gb = GradientBoostingClassifier(learning_rate=0.1, max_depth= 5, \n",
    "                                min_samples_leaf= 4, min_samples_split= 2, \n",
    "                                n_estimators= 100)\n",
    "cv = cross_val_score(gb, scaled_X_train, y_train, cv = kf5)\n",
    "print(cv, 'mean: ', cv.mean())\n",
    "\n",
    "gb.fit(scaled_X_train, y_train)\n",
    "y_pred = gb.predict(scaled_X_test)\n",
    "print(confusion_matrix(y_test, y_pred))\n",
    "print(classification_report(y_test, y_pred))\n",
    "print(gb.score(scaled_X_test, y_test))"
   ]
  },
  {
   "cell_type": "markdown",
   "id": "61131f5c",
   "metadata": {},
   "source": [
    "### SVM"
   ]
  },
  {
   "cell_type": "code",
   "execution_count": null,
   "id": "374e681d",
   "metadata": {},
   "outputs": [],
   "source": [
    "kf5 = StratifiedKFold(n_splits = 5, shuffle = True)\n",
    "svm_param = {'C': [0.1, 1, 10, 100, 1000],  \n",
    "             'gamma': [1, 0.1, 0.01, 0.001, 0.0001], \n",
    "             'kernel': ['rbf']}\n",
    "\n",
    "X = df.loc[:, ['S', 'K', 'tau', 'r']]\n",
    "y = df.loc[:, 'BS']\n",
    "svm = SVC()\n",
    "svm_cv = GridSearchCV(svm, svm_param, cv=kf5, refit=True, verbose=3) \n",
    "svm_cv.fit(scaled_X_train, y_train)\n",
    "print(svm_cv.best_score_)\n",
    "print(svm_cv.best_params_)"
   ]
  },
  {
   "cell_type": "code",
   "execution_count": null,
   "id": "b38d4dae",
   "metadata": {},
   "outputs": [],
   "source": [
    "svm = SVC(C=100, gamma=0.1, kernel='rbf')\n",
    "cv = cross_val_score(svm, scaled_X_train, y_train, cv = kf5)\n",
    "print(cv, 'mean: ', cv.mean())\n",
    "\n",
    "svm.fit(scaled_X_train, y_train)\n",
    "y_pred = svm.predict(scaled_X_test)\n",
    "print(confusion_matrix(y_test, y_pred))\n",
    "print(classification_report(y_test, y_pred))\n",
    "print(svm.score(scaled_X_test, y_test))"
   ]
  },
  {
   "cell_type": "markdown",
   "id": "27f44642",
   "metadata": {},
   "source": [
    "### KNN"
   ]
  },
  {
   "cell_type": "code",
   "execution_count": null,
   "id": "e29c792a",
   "metadata": {},
   "outputs": [],
   "source": [
    "kf5 = StratifiedKFold(n_splits = 5, shuffle = True)\n",
    "knn_param = {'n_neighbors': [3, 4, 5, 6, 7, 8, 9, 10, 11, 12]}\n",
    "\n",
    "knn = KNeighborsClassifier()\n",
    "knn_cv = GridSearchCV(knn, knn_param, cv=kf5, refit=True, verbose=3) \n",
    "knn_cv.fit(scaled_X_train, y_train)\n",
    "print(knn_cv.best_score_)\n",
    "print(knn_cv.best_params_)"
   ]
  },
  {
   "cell_type": "code",
   "execution_count": null,
   "id": "ada99f6f",
   "metadata": {},
   "outputs": [],
   "source": [
    "knn = KNeighborsClassifier(n_neighbors = 9)\n",
    "cv = cross_val_score(knn, scaled_X_train, y_train, cv = kf5)\n",
    "print(cv, 'mean: ', cv.mean())\n",
    "\n",
    "knn.fit(scaled_X_train, y_train)\n",
    "y_pred = knn.predict(scaled_X_test)\n",
    "print(confusion_matrix(y_test, y_pred))\n",
    "print(classification_report(y_test, y_pred))\n",
    "print(knn.score(scaled_X_test, y_test))"
   ]
  },
  {
   "cell_type": "markdown",
   "id": "dbc3b476",
   "metadata": {},
   "source": [
    "### Neural Network"
   ]
  },
  {
   "cell_type": "code",
   "execution_count": null,
   "id": "5df305a3",
   "metadata": {},
   "outputs": [],
   "source": [
    "kf5 = StratifiedKFold(n_splits = 5, shuffle = True)\n",
    "nn_param = {'learning_rate': [\"constant\", \"invscaling\", \"adaptive\"],\n",
    "            'hidden_layer_sizes': [(100,1), (100,2), (100,3)],\n",
    "            'activation': [\"logistic\", \"relu\", \"Tanh\"]}\n",
    "\n",
    "nn = MLPClassifier()\n",
    "nn_cv = GridSearchCV(nn, nn_param, cv=kf5, refit=True, verbose=3) \n",
    "nn_cv.fit(scaled_X_train, y_train)\n",
    "print(nn_cv.best_score_)\n",
    "print(nn_cv.best_params_)"
   ]
  },
  {
   "cell_type": "code",
   "execution_count": null,
   "id": "a8639320",
   "metadata": {},
   "outputs": [],
   "source": [
    "nn = MLPClassifier(activation = 'relu', hidden_layer_sizes = (100, 3), learning_rate = 'constant')\n",
    "cv = cross_val_score(nn, scaled_X_train, y_train, cv = kf5)\n",
    "print(cv, 'mean: ', cv.mean())\n",
    "\n",
    "nn.fit(scaled_X_train, y_train)\n",
    "y_pred = nn.predict(scaled_X_test)\n",
    "print(confusion_matrix(y_test, y_pred))\n",
    "print(classification_report(y_test, y_pred))\n",
    "print(nn.score(scaled_X_test, y_test))"
   ]
  },
  {
   "cell_type": "markdown",
   "id": "fdfcd562",
   "metadata": {},
   "source": [
    "### Decision Tree"
   ]
  },
  {
   "cell_type": "code",
   "execution_count": null,
   "id": "1573f226",
   "metadata": {},
   "outputs": [],
   "source": [
    "kf5 = StratifiedKFold(n_splits = 5, shuffle = True)\n",
    "dt_param = {'max_depth': np.arange(2, 11),\n",
    "            'min_samples_leaf': [1, 2, 4],\n",
    "            'min_samples_split': [2, 5, 10]}\n",
    "\n",
    "dt = DecisionTreeClassifier()\n",
    "dt_cv = GridSearchCV(dt, dt_param, cv=kf5, refit=True, verbose=3) \n",
    "dt_cv.fit(scaled_X_train, y_train)\n",
    "print(dt_cv.best_score_)\n",
    "print(dt_cv.best_params_)"
   ]
  },
  {
   "cell_type": "code",
   "execution_count": null,
   "id": "15dd7a89",
   "metadata": {},
   "outputs": [],
   "source": [
    "dt = DecisionTreeClassifier(max_depth = 9, min_samples_leaf = 2, min_samples_split = 2)\n",
    "cv = cross_val_score(dt, scaled_X_train, y_train, cv = kf5)\n",
    "print(cv, 'mean: ', cv.mean())\n",
    "\n",
    "dt.fit(scaled_X_train, y_train)\n",
    "y_pred = dt.predict(scaled_X_test)\n",
    "print(confusion_matrix(y_test, y_pred))\n",
    "print(classification_report(y_test, y_pred))\n",
    "print(dt.score(scaled_X_test, y_test))"
   ]
  },
  {
   "cell_type": "markdown",
   "id": "6d0f2c2b",
   "metadata": {},
   "source": [
    "### LGB"
   ]
  },
  {
   "cell_type": "code",
   "execution_count": null,
   "id": "291dd731",
   "metadata": {},
   "outputs": [],
   "source": [
    "kf5 = StratifiedKFold(n_splits = 5, shuffle = True)\n",
    "lgb_param = {'max_depth': np.arange(2, 11),\n",
    "            'n_estimators': np.arange(50, 201, 50),\n",
    "            'lambda_l1': [0, 1, 1.5],\n",
    "            'lambda_l2': [0, 1]}\n",
    "\n",
    "LGB = lgb.LGBMClassifier()\n",
    "lgb_cv = GridSearchCV(LGB, lgb_param, cv=kf5, refit=True, verbose=3) \n",
    "lgb_cv.fit(scaled_X_train, y_train)\n",
    "print(lgb_cv.best_score_)\n",
    "print(lgb_cv.best_params_)"
   ]
  },
  {
   "cell_type": "code",
   "execution_count": null,
   "id": "cf571e4f",
   "metadata": {},
   "outputs": [],
   "source": [
    "LGB = lgb.LGBMClassifier(lambda_l1=1, lambda_l2=1, max_depth=4, n_estimators=150)\n",
    "cv = cross_val_score(LGB, scaled_X_train, y_train, cv = kf5)\n",
    "print(cv, 'mean: ', cv.mean())\n",
    "\n",
    "LGB.fit(scaled_X_train, y_train)\n",
    "y_pred = LGB.predict(scaled_X_test)\n",
    "print(confusion_matrix(y_test, y_pred))\n",
    "print(classification_report(y_test, y_pred))\n",
    "print(LGB.score(scaled_X_test, y_test))"
   ]
  },
  {
   "cell_type": "markdown",
   "id": "0c9b3da1",
   "metadata": {},
   "source": [
    "### Final"
   ]
  },
  {
   "cell_type": "code",
   "execution_count": null,
   "id": "eda1f3e4",
   "metadata": {},
   "outputs": [],
   "source": [
    "classifiers = [LogisticRegression(C=1, penalty='l2', solver='newton-cg'),\n",
    "               KNeighborsClassifier(n_neighbors=9),\n",
    "               SVC(C=100, gamma=0.1, kernel='rbf'),\n",
    "               DecisionTreeClassifier(max_depth=9, min_samples_leaf=2, min_samples_split=2),\n",
    "               RandomForestClassifier(max_depth=10, min_samples_leaf=2, min_samples_split=5, n_estimators=50),\n",
    "               GradientBoostingClassifier(learning_rate=0.1, max_depth=5, min_samples_leaf=4,\n",
    "                                          min_samples_split=2, n_estimators=100),\n",
    "               MLPClassifier(activation='relu', hidden_layer_sizes=(100, 3), learning_rate='constant'),\n",
    "               XGBClassifier(colsample_bytree=0.8, gamma=1, max_depth=4, min_child_weight=1, subsample=0.6),\n",
    "               lgb.LGBMClassifier(lambda_l1=1, lambda_l2=1, max_depth=4, n_estimators=150)]"
   ]
  },
  {
   "cell_type": "code",
   "execution_count": null,
   "id": "57835239",
   "metadata": {},
   "outputs": [],
   "source": [
    "acc = []\n",
    "pre = []\n",
    "rec = []\n",
    "f1 = []\n",
    "\n",
    "for classifier in classifiers:\n",
    "    classifier.fit(scaled_X_train, y_train)\n",
    "    y_pred = classifier.predict(scaled_X_test)\n",
    "    acc.append(accuracy_score(y_test, y_pred))\n",
    "    pre.append(precision_score(y_test, y_pred, average='weighted'))\n",
    "    rec.append(recall_score(y_test, y_pred, average='weighted'))\n",
    "    f1.append(f1_score(y_test, y_pred, average='weighted'))"
   ]
  },
  {
   "cell_type": "code",
   "execution_count": null,
   "id": "798b32eb",
   "metadata": {},
   "outputs": [],
   "source": [
    "models = pd.DataFrame({'Model': ['Logistic Regression','KNN', 'SVM', 'Decision Tree', 'Random Forest', \n",
    "                                 'Gradient Boosting','Neural Network','Xgboost', 'LGB'],\n",
    "                       'Accuracy':acc,\n",
    "                       'Precision':pre,\n",
    "                       'Recall':rec,\n",
    "                       'F1':f1})\n",
    "models.sort_values(by='Accuracy', ascending=False)"
   ]
  },
  {
   "cell_type": "markdown",
   "id": "647b8eb3",
   "metadata": {},
   "source": [
    "# Version 2"
   ]
  },
  {
   "cell_type": "code",
   "execution_count": null,
   "id": "24e8026a",
   "metadata": {},
   "outputs": [],
   "source": [
    "from sklearn.preprocessing import StandardScaler\n",
    "\n",
    "X = df.loc[:, ['S', 'K', 'tau', 'r']]\n",
    "y = df.loc[:, 'BS']\n",
    "\n",
    "scaler = StandardScaler()\n",
    "scaled_X = scaler.fit_transform(X)\n",
    "print(scaled_X.shape)"
   ]
  },
  {
   "cell_type": "code",
   "execution_count": null,
   "id": "d28c7453",
   "metadata": {},
   "outputs": [],
   "source": [
    "from sklearn.model_selection import cross_val_score,KFold ## for regression\n",
    "from sklearn.model_selection import StratifiedKFold ## recommended for classification\n",
    "\n",
    "# importing the modules\n",
    "import lightgbm as lgb\n",
    "from xgboost import XGBClassifier\n",
    "from sklearn.model_selection import cross_val_score, cross_validate, GridSearchCV\n",
    "from sklearn.linear_model import LogisticRegression\n",
    "from sklearn.neighbors import KNeighborsClassifier\n",
    "from sklearn.naive_bayes import GaussianNB, MultinomialNB, BernoulliNB\n",
    "from sklearn.tree import DecisionTreeClassifier\n",
    "from sklearn.svm import SVC\n",
    "from sklearn.ensemble import RandomForestClassifier, GradientBoostingClassifier\n",
    "from sklearn.metrics import accuracy_score, precision_score, recall_score, f1_score, confusion_matrix, classification_report\n",
    "from sklearn.utils import class_weight\n",
    "from sklearn.neural_network import MLPClassifier"
   ]
  },
  {
   "cell_type": "markdown",
   "id": "da5f6aa5",
   "metadata": {},
   "source": [
    "### Logistic Regression"
   ]
  },
  {
   "cell_type": "code",
   "execution_count": null,
   "id": "439f4510",
   "metadata": {},
   "outputs": [],
   "source": [
    "kf10 = StratifiedKFold(n_splits = 10, shuffle = True)\n",
    "log_param = {'penalty' : ['l1','l2'], \n",
    "             'C': np.logspace(-3,3,7),\n",
    "             'solver'  : ['newton-cg', 'lbfgs', 'liblinear']}\n",
    "\n",
    "log = LogisticRegression()\n",
    "log_cv = GridSearchCV(log, log_param, cv = kf10, refit=True, verbose=3)\n",
    "log_cv.fit(scaled_X, y)\n",
    "print(log_cv.best_score_)\n",
    "print(log_cv.best_params_)"
   ]
  },
  {
   "cell_type": "markdown",
   "id": "f3192b42",
   "metadata": {},
   "source": [
    "### Random Forest"
   ]
  },
  {
   "cell_type": "code",
   "execution_count": null,
   "id": "300f30de",
   "metadata": {},
   "outputs": [],
   "source": [
    "kf10 = StratifiedKFold(n_splits = 10, shuffle = True)\n",
    "rf_param = {'max_depth': np.arange(2, 11),\n",
    "            'min_samples_leaf': [1, 2, 4],\n",
    "            'min_samples_split': [2, 5, 10],\n",
    "            'n_estimators': np.arange(50, 201, 50)}\n",
    "\n",
    "param = {'alpha':np.arange(0,1,0.1)}\n",
    "\n",
    "rf = RandomForestClassifier()\n",
    "rf_cv = GridSearchCV(rf, rf_param, cv=kf10, refit=True, verbose=3) \n",
    "rf_cv.fit(scaled_X, y)\n",
    "print(rf_cv.best_score_)\n",
    "print(rf_cv.best_params_)"
   ]
  },
  {
   "cell_type": "markdown",
   "id": "d92b0947",
   "metadata": {},
   "source": [
    "### Gradient Boosting"
   ]
  },
  {
   "cell_type": "code",
   "execution_count": null,
   "id": "b474eff7",
   "metadata": {},
   "outputs": [],
   "source": [
    "kf10 = StratifiedKFold(n_splits = 10, shuffle = True)\n",
    "gb_param = {\n",
    "    \"learning_rate\": [0.001, 0.01, 0.1],\n",
    "    'max_depth': [2, 5, 10],\n",
    "    'min_samples_leaf': [1, 2, 4],\n",
    "    'min_samples_split': [2, 5, 10],\n",
    "    \"n_estimators\":[10, 100]\n",
    "    }\n",
    "\n",
    "gb = GradientBoostingClassifier()\n",
    "gb_cv = GridSearchCV(gb, gb_param, cv=kf10, refit=True, verbose=3) \n",
    "gb_cv.fit(scaled_X, y)\n",
    "print(gb_cv.best_score_)\n",
    "print(gb_cv.best_params_)"
   ]
  },
  {
   "cell_type": "markdown",
   "id": "a1306a2d",
   "metadata": {},
   "source": [
    "### SVM"
   ]
  },
  {
   "cell_type": "code",
   "execution_count": null,
   "id": "402ea584",
   "metadata": {},
   "outputs": [],
   "source": [
    "kf10 = StratifiedKFold(n_splits = 10, shuffle = True)\n",
    "svm_param = {'C': [0.1, 1, 10, 100, 1000],  \n",
    "             'gamma': [1, 0.1, 0.01, 0.001, 0.0001], \n",
    "             'kernel': ['rbf']}\n",
    "\n",
    "X = df.loc[:, ['S', 'K', 'tau', 'r']]\n",
    "y = df.loc[:, 'BS']\n",
    "svm = SVC()\n",
    "svm_cv = GridSearchCV(svm, svm_param, cv=kf10, refit=True, verbose=3) \n",
    "svm_cv.fit(scaled_X, y)\n",
    "print(svm_cv.best_score_)\n",
    "print(svm_cv.best_params_)"
   ]
  },
  {
   "cell_type": "markdown",
   "id": "13a17e3a",
   "metadata": {},
   "source": [
    "### Xgboost"
   ]
  },
  {
   "cell_type": "code",
   "execution_count": null,
   "id": "79c30d3e",
   "metadata": {},
   "outputs": [],
   "source": [
    "kf10 = StratifiedKFold(n_splits = 10, shuffle = True)\n",
    "kb_param = {'min_child_weight': [1, 5, 10],\n",
    "          'gamma': [0.5, 1, 1.5, 2, 5],\n",
    "          'subsample': [0.6, 0.8, 1.0],\n",
    "          'colsample_bytree': [0.6, 0.8, 1.0],\n",
    "          'max_depth': [3, 4, 5]}\n",
    "\n",
    "\n",
    "X = df.loc[:, ['S', 'K', 'tau', 'r']]\n",
    "y = df.loc[:, 'BS']\n",
    "kb = XGBClassifier()\n",
    "kb_cv = GridSearchCV(kb, kb_param, cv=kf10, refit=True, verbose=3) \n",
    "kb_cv.fit(scaled_X, y)\n",
    "print(kb_cv.best_score_)\n",
    "print(kb_cv.best_params_)"
   ]
  },
  {
   "cell_type": "markdown",
   "id": "4a1b87fd",
   "metadata": {},
   "source": [
    "### KNN"
   ]
  },
  {
   "cell_type": "code",
   "execution_count": null,
   "id": "482aeab5",
   "metadata": {},
   "outputs": [],
   "source": [
    "kf10 = StratifiedKFold(n_splits = 10, shuffle = True)\n",
    "knn_param = {'n_neighbors': [3, 4, 5, 6, 7, 8, 9, 10, 11, 12]}\n",
    "\n",
    "knn = KNeighborsClassifier()\n",
    "knn_cv = GridSearchCV(knn, knn_param, cv=kf10, refit=True, verbose=3) \n",
    "knn_cv.fit(scaled_X, y)\n",
    "print(knn_cv.best_score_)\n",
    "print(knn_cv.best_params_)"
   ]
  },
  {
   "cell_type": "markdown",
   "id": "1b946b98",
   "metadata": {},
   "source": [
    "### Neural Network"
   ]
  },
  {
   "cell_type": "code",
   "execution_count": null,
   "id": "f1e67658",
   "metadata": {},
   "outputs": [],
   "source": [
    "kf10 = StratifiedKFold(n_splits = 10, shuffle = True)\n",
    "nn_param = {'learning_rate': [\"constant\", \"invscaling\", \"adaptive\"],\n",
    "            'hidden_layer_sizes': [(100,1), (100,2), (100,3)],\n",
    "            'activation': [\"logistic\", \"relu\", \"Tanh\"]}\n",
    "\n",
    "nn = MLPClassifier()\n",
    "nn_cv = GridSearchCV(nn, nn_param, cv=kf10, refit=True, verbose=3) \n",
    "nn_cv.fit(scaled_X, y)\n",
    "print(nn_cv.best_score_)\n",
    "print(nn_cv.best_params_)"
   ]
  },
  {
   "cell_type": "markdown",
   "id": "560dcd99",
   "metadata": {},
   "source": [
    "### Decision Tree"
   ]
  },
  {
   "cell_type": "code",
   "execution_count": null,
   "id": "1ea54aff",
   "metadata": {},
   "outputs": [],
   "source": [
    "kf10 = StratifiedKFold(n_splits = 10, shuffle = True)\n",
    "dt_param = {'max_depth': np.arange(2, 11),\n",
    "            'min_samples_leaf': [1, 2, 4],\n",
    "            'min_samples_split': [2, 5, 10]}\n",
    "\n",
    "dt = DecisionTreeClassifier()\n",
    "dt_cv = GridSearchCV(dt, dt_param, cv=kf10, refit=True, verbose=3) \n",
    "dt_cv.fit(scaled_X, y)\n",
    "print(dt_cv.best_score_)\n",
    "print(dt_cv.best_params_)"
   ]
  },
  {
   "cell_type": "markdown",
   "id": "beaeca1b",
   "metadata": {},
   "source": [
    "### LGB"
   ]
  },
  {
   "cell_type": "code",
   "execution_count": null,
   "id": "04e9f84b",
   "metadata": {},
   "outputs": [],
   "source": [
    "kf10 = StratifiedKFold(n_splits = 10, shuffle = True)\n",
    "lgb_param = {'max_depth': np.arange(2, 11),\n",
    "            'n_estimators': np.arange(50, 201, 50),\n",
    "            'lambda_l1': [0, 1, 1.5],\n",
    "            'lambda_l2': [0, 1]}\n",
    "\n",
    "LGB = lgb.LGBMClassifier()\n",
    "lgb_cv = GridSearchCV(LGB, lgb_param, cv=kf10, refit=True, verbose=3) \n",
    "lgb_cv.fit(scaled_X, y)\n",
    "print(lgb_cv.best_score_)\n",
    "print(lgb_cv.best_params_)"
   ]
  },
  {
   "cell_type": "markdown",
   "id": "7d52f90e",
   "metadata": {},
   "source": [
    "# Final model: XGBoost in version 2"
   ]
  },
  {
   "cell_type": "code",
   "execution_count": null,
   "id": "c5f542c8",
   "metadata": {},
   "outputs": [],
   "source": [
    "test = pd.read_csv('option_test_wolabel.csv')\n",
    "test.head()"
   ]
  },
  {
   "cell_type": "code",
   "execution_count": null,
   "id": "23ebbf36",
   "metadata": {},
   "outputs": [],
   "source": [
    "X_test = scaler.transform(test)\n",
    "X_test"
   ]
  },
  {
   "cell_type": "code",
   "execution_count": null,
   "id": "6ea6ea93",
   "metadata": {},
   "outputs": [],
   "source": [
    "kb = XGBClassifier(colsample_bytree = 0.8, gamma = 1.5, max_depth = 4, \n",
    "                   min_child_weight = 1, subsample = 0.6)\n",
    "kb.fit(scaled_X, y)\n",
    "y_pred = kb.predict(X_test)"
   ]
  },
  {
   "cell_type": "code",
   "execution_count": null,
   "id": "bbadca6c",
   "metadata": {},
   "outputs": [],
   "source": [
    "BS = pd.DataFrame(y_pred, columns = ['BS'])\n",
    "BS.head()"
   ]
  },
  {
   "cell_type": "code",
   "execution_count": null,
   "id": "8ebc2382",
   "metadata": {},
   "outputs": [],
   "source": [
    "BS.to_csv('BS_result.csv')"
   ]
  }
 ],
 "metadata": {
  "kernelspec": {
   "display_name": "Python 3",
   "language": "python",
   "name": "python3"
  },
  "language_info": {
   "codemirror_mode": {
    "name": "ipython",
    "version": 3
   },
   "file_extension": ".py",
   "mimetype": "text/x-python",
   "name": "python",
   "nbconvert_exporter": "python",
   "pygments_lexer": "ipython3",
   "version": "3.7.10"
  }
 },
 "nbformat": 4,
 "nbformat_minor": 5
}
